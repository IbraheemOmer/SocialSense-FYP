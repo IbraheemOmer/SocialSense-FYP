{
 "cells": [
  {
   "cell_type": "code",
   "execution_count": 3,
   "metadata": {},
   "outputs": [],
   "source": [
    "import json\n",
    "import pandas as pd\n",
    "\n",
    "DEFAULT_SYSTEM_PROMPT = 'You are a text classifier for social media comments. Classify the following comment into one of the following classes: [Positive, Neutral, Negative - Respond, Negative - Ignore, Negative - Remove, Crisis]'\n",
    "\n",
    "def create_dataset(Comments, ground_truth):\n",
    "    return {\n",
    "        \"messages\": [\n",
    "            {\"role\": \"system\", \"content\": DEFAULT_SYSTEM_PROMPT},\n",
    "            {\"role\": \"user\", \"content\": Comments},\n",
    "            {\"role\": \"assistant\", \"content\": ground_truth},\n",
    "        ]\n",
    "    }\n",
    "\n",
    "if __name__ == \"__main__\":\n",
    "    df = pd.read_csv(\"CSV/test.csv\", encoding='utf-8')\n",
    "    with open(\"JSONL/test.jsonl\", \"w\") as f:\n",
    "        for _, row in df.iterrows():\n",
    "            example_str = json.dumps(create_dataset(row[\"Comments\"], row[\"Ground Truth\"]))\n",
    "            f.write(example_str + \"\\n\")"
   ]
  }
 ],
 "metadata": {
  "kernelspec": {
   "display_name": "Python 3",
   "language": "python",
   "name": "python3"
  },
  "language_info": {
   "codemirror_mode": {
    "name": "ipython",
    "version": 3
   },
   "file_extension": ".py",
   "mimetype": "text/x-python",
   "name": "python",
   "nbconvert_exporter": "python",
   "pygments_lexer": "ipython3",
   "version": "3.12.0"
  }
 },
 "nbformat": 4,
 "nbformat_minor": 2
}
