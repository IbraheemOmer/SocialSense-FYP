{
 "cells": [
  {
   "cell_type": "code",
   "execution_count": null,
   "metadata": {},
   "outputs": [],
   "source": [
    "import numpy as np\n",
    "\n",
    "def secant_method_ibraheem_omer(f, p0, p1, tol=1e-5, max_iter=100):\n",
    "    q0 = f(p0)\n",
    "    q1 = f(p1)\n",
    "    \n",
    "    for i in range(2, max_iter + 1):\n",
    "        p = p1 - q1 * (p1 - p0) / (q1 - q0)\n",
    "        \n",
    "        if abs(p - p1) < tol:\n",
    "            return p\n",
    "        \n",
    "        p0 = p1\n",
    "        q0 = q1\n",
    "        p1 = p\n",
    "        q1 = f(p)\n",
    "    \n",
    "    print(f\"The method failed after maximum iterations {max_iter}\")\n",
    "    return None"
   ]
  }
 ],
 "metadata": {
  "language_info": {
   "name": "python"
  }
 },
 "nbformat": 4,
 "nbformat_minor": 2
}
